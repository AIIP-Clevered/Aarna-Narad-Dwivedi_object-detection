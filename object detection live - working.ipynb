{
 "cells": [
  {
   "cell_type": "code",
   "execution_count": 1,
   "id": "4134292b",
   "metadata": {},
   "outputs": [
    {
     "name": "stdout",
     "output_type": "stream",
     "text": [
      "Requirement already satisfied: opencv-python in c:\\users\\avish\\appdata\\local\\programs\\python\\python311\\lib\\site-packages (4.6.0.66)\n",
      "Requirement already satisfied: numpy in c:\\users\\avish\\appdata\\local\\programs\\python\\python311\\lib\\site-packages (1.23.5)\n",
      "Requirement already satisfied: pillow in c:\\users\\avish\\appdata\\local\\programs\\python\\python311\\lib\\site-packages (11.1.0)\n",
      "Note: you may need to restart the kernel to use updated packages.\n"
     ]
    },
    {
     "name": "stderr",
     "output_type": "stream",
     "text": [
      "\n",
      "[notice] A new release of pip is available: 23.2.1 -> 25.0.1\n",
      "[notice] To update, run: python.exe -m pip install --upgrade pip\n"
     ]
    }
   ],
   "source": [
    "pip install opencv-python numpy pillow"
   ]
  },
  {
   "cell_type": "code",
   "execution_count": 2,
   "id": "dd4f4493",
   "metadata": {
    "scrolled": true
   },
   "outputs": [],
   "source": [
    "import cv2\n",
    "import tkinter as tk\n",
    "from tkinter import filedialog\n",
    "from PIL import Image, ImageTk\n",
    "import numpy as np\n",
    "\n",
    "# --- Load Object Detection Model ---\n",
    "thres = 0.5\n",
    "classnames = []\n",
    "classfile = \"coco.pbtxt\"\n",
    "\n",
    "with open(classfile, 'rt') as f:\n",
    "    classnames = f.read().rstrip(\"\\n\").split(\"\\n\")\n",
    "\n",
    "configpath = 'ssd_mobilenet_v3_large_coco_2020_01_14.pbtxt'\n",
    "weightspath = 'frozen_inference_graph.pb'\n",
    "\n",
    "net = cv2.dnn_DetectionModel(weightspath, configpath)\n",
    "net.setInputSize(320, 320)\n",
    "net.setInputScale(1.0 / 127.5)\n",
    "net.setInputMean((127.5, 127.5, 127.5))\n",
    "net.setInputSwapRB(True)\n",
    "\n",
    "# --- Tkinter GUI ---\n",
    "root = tk.Tk()\n",
    "root.title(\"Object Detection GUI\")\n",
    "root.geometry(\"800x600\")\n",
    "\n",
    "try:\n",
    "    bg_image = Image.open(\"back.jpg\")\n",
    "    bg_image = bg_image.resize((800, 600), Image.LANCZOS)\n",
    "    bg_photo = ImageTk.PhotoImage(bg_image)\n",
    "\n",
    "    bg_label = tk.Label(root, image=bg_photo)\n",
    "    bg_label.image = bg_photo  # Keep reference to prevent garbage collection\n",
    "    bg_label.place(relwidth=1, relheight=1)\n",
    "\n",
    "except Exception as e:\n",
    "    print(f\"Error loading background image: {e}\")\n",
    "\n",
    "# --- Function: Live Object Detection ---\n",
    "def live_detection():\n",
    "    cap = cv2.VideoCapture(0)\n",
    "    cap.set(3, 640)\n",
    "    cap.set(4, 480)\n",
    "\n",
    "    while True:\n",
    "        success, img = cap.read()\n",
    "        classIds, confs, bbox = net.detect(img, confThreshold=thres)\n",
    "\n",
    "        if len(classIds) != 0:\n",
    "            for classId, confidence, box in zip(classIds.flatten(), confs.flatten(), bbox):\n",
    "                cv2.rectangle(img, box, color=(0, 255, 2), thickness=3)\n",
    "                cv2.putText(img, classnames[classId - 1].upper(), (box[0] + 10, box[1] + 30),\n",
    "                            cv2.FONT_HERSHEY_COMPLEX, 1, (0, 255, 0), 2)\n",
    "                cv2.putText(img, str(round(confidence * 100, 2)), (box[0] + 200, box[1] + 30),\n",
    "                            cv2.FONT_HERSHEY_COMPLEX, 1, (0, 255, 5), 2)\n",
    "\n",
    "        cv2.imshow(\"Live Object Detection\", img)\n",
    "\n",
    "        if cv2.waitKey(1) == ord('q'):\n",
    "            break\n",
    "\n",
    "    cap.release()\n",
    "    cv2.destroyAllWindows()\n",
    "\n",
    "# --- Function: Static Image Object Detection ---\n",
    "def detect_from_image():\n",
    "    file_path = filedialog.askopenfilename(filetypes=[(\"Image Files\", \"*.jpg;*.png;*.jpeg\")])\n",
    "    \n",
    "    if not file_path:\n",
    "        return\n",
    "    \n",
    "    img = cv2.imread(file_path)\n",
    "    classIds, confs, bbox = net.detect(img, confThreshold=thres)\n",
    "\n",
    "    if len(classIds) != 0:\n",
    "        for classId, confidence, box in zip(classIds.flatten(), confs.flatten(), bbox):\n",
    "            cv2.rectangle(img, box, color=(0, 255, 2), thickness=3)\n",
    "            cv2.putText(img, classnames[classId - 1].upper(), (box[0] + 10, box[1] + 30),\n",
    "                        cv2.FONT_HERSHEY_COMPLEX, 1, (0, 255, 0), 2)\n",
    "            cv2.putText(img, str(round(confidence * 100, 2)), (box[0] + 200, box[1] + 30),\n",
    "                        cv2.FONT_HERSHEY_COMPLEX, 1, (0, 255, 5), 2)\n",
    "\n",
    "    cv2.imshow(\"Static Image Detection\", img)\n",
    "    cv2.waitKey(0)\n",
    "    cv2.destroyAllWindows()\n",
    "\n",
    "# --- Buttons ---\n",
    "upload_button = tk.Button(root, text=\"Upload Image for Detection\", command=detect_from_image, font=(\"Arial\", 14), bg=\"lightblue\")\n",
    "upload_button.pack(pady=20)\n",
    "\n",
    "live_button = tk.Button(root, text=\"Start Live Object Detection\", command=live_detection, font=(\"Arial\", 14), bg=\"lightgreen\")\n",
    "live_button.pack(pady=20)\n",
    "\n",
    "# Run Tkinter\n",
    "root.mainloop()\n"
   ]
  },
  {
   "cell_type": "code",
   "execution_count": null,
   "id": "97a17114",
   "metadata": {},
   "outputs": [],
   "source": []
  }
 ],
 "metadata": {
  "kernelspec": {
   "display_name": "Python 3 (ipykernel)",
   "language": "python",
   "name": "python3"
  },
  "language_info": {
   "codemirror_mode": {
    "name": "ipython",
    "version": 3
   },
   "file_extension": ".py",
   "mimetype": "text/x-python",
   "name": "python",
   "nbconvert_exporter": "python",
   "pygments_lexer": "ipython3",
   "version": "3.11.0"
  }
 },
 "nbformat": 4,
 "nbformat_minor": 5
}
